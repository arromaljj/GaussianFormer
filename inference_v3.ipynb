{
 "cells": [
  {
   "cell_type": "code",
   "execution_count": 1,
   "metadata": {},
   "outputs": [],
   "source": [
    "\n",
    "import os\n",
    "import numpy as np\n",
    "import torch\n",
    "from mmengine import Config\n",
    "from mmseg.apis import init_model, inference_model, show_result_pyplot\n"
   ]
  },
  {
   "cell_type": "code",
   "execution_count": 9,
   "metadata": {},
   "outputs": [],
   "source": [
    "from mmseg.apis import init_model, inference_model, show_result_pyplot\n",
    "\n",
    "from mmengine import Config\n",
    "\n",
    "# Init the model from the config and the checkpoint\n",
    "cfg = 'config/prob/nuscenes_gs6400.py'\n",
    "# cfg = Config.fromfile(cfg)\n",
    "checkpoint_path = 'downloads/prob_64_state_dict/prob_64_state_dict.pth'\n",
    "# model = init_model(cfg, checkpoint_path, 'cuda:0')\n"
   ]
  },
  {
   "cell_type": "code",
   "execution_count": 7,
   "metadata": {},
   "outputs": [
    {
     "ename": "SyntaxError",
     "evalue": "invalid syntax (2190860974.py, line 4)",
     "output_type": "error",
     "traceback": [
      "\u001b[0;36m  Cell \u001b[0;32mIn[7], line 4\u001b[0;36m\u001b[0m\n\u001b[0;31m    model = init_segmentor(cfg, che?ckpoint_path, device='cuda:0')\u001b[0m\n\u001b[0m                                   ^\u001b[0m\n\u001b[0;31mSyntaxError\u001b[0m\u001b[0;31m:\u001b[0m invalid syntax\n"
     ]
    }
   ],
   "source": [
    "from mmseg.apis import inference_segmentor, init_segmentor, show_result_pyplot\n",
    "from mmseg.core.evaluation import get_palette\n",
    "\n",
    "model = init_segmentor(cfg, che?ckpoint_path, device='cuda:0')"
   ]
  },
  {
   "cell_type": "code",
   "execution_count": 2,
   "metadata": {},
   "outputs": [
    {
     "name": "stderr",
     "output_type": "stream",
     "text": [
      "/root/miniconda/envs/selfocc/lib/python3.8/site-packages/mmseg/models/builder.py:15: UserWarning: ``build_backbone`` would be deprecated soon, please use ``mmseg.registry.MODELS.build()`` \n",
      "  warnings.warn('``build_backbone`` would be deprecated soon, please use '\n",
      "/root/miniconda/envs/selfocc/lib/python3.8/site-packages/mmseg/models/builder.py:22: UserWarning: ``build_neck`` would be deprecated soon, please use ``mmseg.registry.MODELS.build()`` \n",
      "  warnings.warn('``build_neck`` would be deprecated soon, please use '\n",
      "/root/miniconda/envs/selfocc/lib/python3.8/site-packages/mmseg/models/builder.py:29: UserWarning: ``build_head`` would be deprecated soon, please use ``mmseg.registry.MODELS.build()`` \n",
      "  warnings.warn('``build_head`` would be deprecated soon, please use '\n",
      "/workspace/GaussianFormer/model/lifter/gaussian_lifter_v2.py:77: UserWarning: To copy construct from a tensor, it is recommended to use sourceTensor.clone().detach() or sourceTensor.clone().detach().requires_grad_(True), rather than torch.tensor(sourceTensor).\n",
      "  torch.tensor(anchor, dtype=torch.float32),\n"
     ]
    },
    {
     "ename": "FileNotFoundError",
     "evalue": "[Errno 2] No such file or directory: 'out/prob/init/init.pth'",
     "output_type": "error",
     "traceback": [
      "\u001b[0;31m---------------------------------------------------------------------------\u001b[0m",
      "\u001b[0;31mFileNotFoundError\u001b[0m                         Traceback (most recent call last)",
      "\u001b[1;32m/workspace/GaussianFormer/inference_v3.ipynb Cell 4\u001b[0m line \u001b[0;36m8\n\u001b[1;32m      <a href='vscode-notebook-cell://ssh-remote%2B194.68.245.11/workspace/GaussianFormer/inference_v3.ipynb#W3sdnNjb2RlLXJlbW90ZQ%3D%3D?line=5'>6</a>\u001b[0m cfg \u001b[39m=\u001b[39m Config\u001b[39m.\u001b[39mfromfile(cfg)\n\u001b[1;32m      <a href='vscode-notebook-cell://ssh-remote%2B194.68.245.11/workspace/GaussianFormer/inference_v3.ipynb#W3sdnNjb2RlLXJlbW90ZQ%3D%3D?line=6'>7</a>\u001b[0m cfg\u001b[39m.\u001b[39mwork_dir \u001b[39m=\u001b[39m \u001b[39m\"\u001b[39m\u001b[39mout/\u001b[39m\u001b[39m\"\u001b[39m\n\u001b[0;32m----> <a href='vscode-notebook-cell://ssh-remote%2B194.68.245.11/workspace/GaussianFormer/inference_v3.ipynb#W3sdnNjb2RlLXJlbW90ZQ%3D%3D?line=7'>8</a>\u001b[0m model \u001b[39m=\u001b[39m build_segmentor(cfg\u001b[39m.\u001b[39;49mmodel)\n\u001b[1;32m      <a href='vscode-notebook-cell://ssh-remote%2B194.68.245.11/workspace/GaussianFormer/inference_v3.ipynb#W3sdnNjb2RlLXJlbW90ZQ%3D%3D?line=8'>9</a>\u001b[0m \u001b[39m# model.init_weights()\u001b[39;00m\n",
      "File \u001b[0;32m~/miniconda/envs/selfocc/lib/python3.8/site-packages/mmseg/models/builder.py:51\u001b[0m, in \u001b[0;36mbuild_segmentor\u001b[0;34m(cfg, train_cfg, test_cfg)\u001b[0m\n\u001b[1;32m     47\u001b[0m \u001b[39massert\u001b[39;00m cfg\u001b[39m.\u001b[39mget(\u001b[39m'\u001b[39m\u001b[39mtrain_cfg\u001b[39m\u001b[39m'\u001b[39m) \u001b[39mis\u001b[39;00m \u001b[39mNone\u001b[39;00m \u001b[39mor\u001b[39;00m train_cfg \u001b[39mis\u001b[39;00m \u001b[39mNone\u001b[39;00m, \\\n\u001b[1;32m     48\u001b[0m     \u001b[39m'\u001b[39m\u001b[39mtrain_cfg specified in both outer field and model field \u001b[39m\u001b[39m'\u001b[39m\n\u001b[1;32m     49\u001b[0m \u001b[39massert\u001b[39;00m cfg\u001b[39m.\u001b[39mget(\u001b[39m'\u001b[39m\u001b[39mtest_cfg\u001b[39m\u001b[39m'\u001b[39m) \u001b[39mis\u001b[39;00m \u001b[39mNone\u001b[39;00m \u001b[39mor\u001b[39;00m test_cfg \u001b[39mis\u001b[39;00m \u001b[39mNone\u001b[39;00m, \\\n\u001b[1;32m     50\u001b[0m     \u001b[39m'\u001b[39m\u001b[39mtest_cfg specified in both outer field and model field \u001b[39m\u001b[39m'\u001b[39m\n\u001b[0;32m---> 51\u001b[0m \u001b[39mreturn\u001b[39;00m SEGMENTORS\u001b[39m.\u001b[39;49mbuild(\n\u001b[1;32m     52\u001b[0m     cfg, default_args\u001b[39m=\u001b[39;49m\u001b[39mdict\u001b[39;49m(train_cfg\u001b[39m=\u001b[39;49mtrain_cfg, test_cfg\u001b[39m=\u001b[39;49mtest_cfg))\n",
      "File \u001b[0;32m~/miniconda/envs/selfocc/lib/python3.8/site-packages/mmengine/registry/registry.py:570\u001b[0m, in \u001b[0;36mRegistry.build\u001b[0;34m(self, cfg, *args, **kwargs)\u001b[0m\n\u001b[1;32m    548\u001b[0m \u001b[39mdef\u001b[39;00m\u001b[39m \u001b[39m\u001b[39mbuild\u001b[39m(\u001b[39mself\u001b[39m, cfg: \u001b[39mdict\u001b[39m, \u001b[39m*\u001b[39margs, \u001b[39m*\u001b[39m\u001b[39m*\u001b[39mkwargs) \u001b[39m-\u001b[39m\u001b[39m>\u001b[39m Any:\n\u001b[1;32m    549\u001b[0m \u001b[39m    \u001b[39m\u001b[39m\"\"\"Build an instance.\u001b[39;00m\n\u001b[1;32m    550\u001b[0m \n\u001b[1;32m    551\u001b[0m \u001b[39m    Build an instance by calling :attr:`build_func`.\u001b[39;00m\n\u001b[0;32m   (...)\u001b[0m\n\u001b[1;32m    568\u001b[0m \u001b[39m        >>> model = MODELS.build(cfg)\u001b[39;00m\n\u001b[1;32m    569\u001b[0m \u001b[39m    \"\"\"\u001b[39;00m\n\u001b[0;32m--> 570\u001b[0m     \u001b[39mreturn\u001b[39;00m \u001b[39mself\u001b[39;49m\u001b[39m.\u001b[39;49mbuild_func(cfg, \u001b[39m*\u001b[39;49margs, \u001b[39m*\u001b[39;49m\u001b[39m*\u001b[39;49mkwargs, registry\u001b[39m=\u001b[39;49m\u001b[39mself\u001b[39;49m)\n",
      "File \u001b[0;32m~/miniconda/envs/selfocc/lib/python3.8/site-packages/mmengine/registry/build_functions.py:232\u001b[0m, in \u001b[0;36mbuild_model_from_cfg\u001b[0;34m(cfg, registry, default_args)\u001b[0m\n\u001b[1;32m    230\u001b[0m     \u001b[39mreturn\u001b[39;00m Sequential(\u001b[39m*\u001b[39mmodules)\n\u001b[1;32m    231\u001b[0m \u001b[39melse\u001b[39;00m:\n\u001b[0;32m--> 232\u001b[0m     \u001b[39mreturn\u001b[39;00m build_from_cfg(cfg, registry, default_args)\n",
      "File \u001b[0;32m~/miniconda/envs/selfocc/lib/python3.8/site-packages/mmengine/registry/build_functions.py:121\u001b[0m, in \u001b[0;36mbuild_from_cfg\u001b[0;34m(cfg, registry, default_args)\u001b[0m\n\u001b[1;32m    119\u001b[0m     obj \u001b[39m=\u001b[39m obj_cls\u001b[39m.\u001b[39mget_instance(\u001b[39m*\u001b[39m\u001b[39m*\u001b[39margs)  \u001b[39m# type: ignore\u001b[39;00m\n\u001b[1;32m    120\u001b[0m \u001b[39melse\u001b[39;00m:\n\u001b[0;32m--> 121\u001b[0m     obj \u001b[39m=\u001b[39m obj_cls(\u001b[39m*\u001b[39;49m\u001b[39m*\u001b[39;49margs)  \u001b[39m# type: ignore\u001b[39;00m\n\u001b[1;32m    123\u001b[0m \u001b[39mif\u001b[39;00m (inspect\u001b[39m.\u001b[39misclass(obj_cls) \u001b[39mor\u001b[39;00m inspect\u001b[39m.\u001b[39misfunction(obj_cls)\n\u001b[1;32m    124\u001b[0m         \u001b[39mor\u001b[39;00m inspect\u001b[39m.\u001b[39mismethod(obj_cls)):\n\u001b[1;32m    125\u001b[0m     print_log(\n\u001b[1;32m    126\u001b[0m         \u001b[39mf\u001b[39m\u001b[39m'\u001b[39m\u001b[39mAn `\u001b[39m\u001b[39m{\u001b[39;00mobj_cls\u001b[39m.\u001b[39m\u001b[39m__name__\u001b[39m\u001b[39m}\u001b[39;00m\u001b[39m` instance is built from \u001b[39m\u001b[39m'\u001b[39m  \u001b[39m# type: ignore # noqa: E501\u001b[39;00m\n\u001b[1;32m    127\u001b[0m         \u001b[39m'\u001b[39m\u001b[39mregistry, and its implementation can be found in \u001b[39m\u001b[39m'\u001b[39m\n\u001b[1;32m    128\u001b[0m         \u001b[39mf\u001b[39m\u001b[39m'\u001b[39m\u001b[39m{\u001b[39;00mobj_cls\u001b[39m.\u001b[39m\u001b[39m__module__\u001b[39m\u001b[39m}\u001b[39;00m\u001b[39m'\u001b[39m,  \u001b[39m# type: ignore\u001b[39;00m\n\u001b[1;32m    129\u001b[0m         logger\u001b[39m=\u001b[39m\u001b[39m'\u001b[39m\u001b[39mcurrent\u001b[39m\u001b[39m'\u001b[39m,\n\u001b[1;32m    130\u001b[0m         level\u001b[39m=\u001b[39mlogging\u001b[39m.\u001b[39mDEBUG)\n",
      "File \u001b[0;32m/workspace/GaussianFormer/model/segmentor/bev_segmentor.py:21\u001b[0m, in \u001b[0;36mBEVSegmentor.__init__\u001b[0;34m(self, freeze_img_backbone, freeze_img_neck, freeze_lifter, img_backbone_out_indices, extra_img_backbone, **kwargs)\u001b[0m\n\u001b[1;32m     11\u001b[0m \u001b[39mdef\u001b[39;00m\u001b[39m \u001b[39m\u001b[39m__init__\u001b[39m(\n\u001b[1;32m     12\u001b[0m     \u001b[39mself\u001b[39m,\n\u001b[1;32m     13\u001b[0m     freeze_img_backbone\u001b[39m=\u001b[39m\u001b[39mFalse\u001b[39;00m,\n\u001b[0;32m   (...)\u001b[0m\n\u001b[1;32m     19\u001b[0m     \u001b[39m*\u001b[39m\u001b[39m*\u001b[39mkwargs,\n\u001b[1;32m     20\u001b[0m ):\n\u001b[0;32m---> 21\u001b[0m     \u001b[39msuper\u001b[39;49m()\u001b[39m.\u001b[39;49m\u001b[39m__init__\u001b[39;49m(\u001b[39m*\u001b[39;49m\u001b[39m*\u001b[39;49mkwargs)\n\u001b[1;32m     23\u001b[0m     \u001b[39m# self.fp16_enabled = False\u001b[39;00m\n\u001b[1;32m     24\u001b[0m     \u001b[39mself\u001b[39m\u001b[39m.\u001b[39mfreeze_img_backbone \u001b[39m=\u001b[39m freeze_img_backbone\n",
      "File \u001b[0;32m/workspace/GaussianFormer/model/segmentor/base_segmentor.py:28\u001b[0m, in \u001b[0;36mCustomBaseSegmentor.__init__\u001b[0;34m(self, img_backbone, img_neck, lifter, encoder, head, init_cfg, **kwargs)\u001b[0m\n\u001b[1;32m     26\u001b[0m         \u001b[39mself\u001b[39m\u001b[39m.\u001b[39mimg_neck \u001b[39m=\u001b[39m MODELS\u001b[39m.\u001b[39mbuild(img_neck)\n\u001b[1;32m     27\u001b[0m \u001b[39mif\u001b[39;00m lifter \u001b[39mis\u001b[39;00m \u001b[39mnot\u001b[39;00m \u001b[39mNone\u001b[39;00m:\n\u001b[0;32m---> 28\u001b[0m     \u001b[39mself\u001b[39m\u001b[39m.\u001b[39mlifter \u001b[39m=\u001b[39m builder\u001b[39m.\u001b[39;49mbuild_head(lifter)\n\u001b[1;32m     29\u001b[0m \u001b[39mif\u001b[39;00m encoder \u001b[39mis\u001b[39;00m \u001b[39mnot\u001b[39;00m \u001b[39mNone\u001b[39;00m:\n\u001b[1;32m     30\u001b[0m     \u001b[39mself\u001b[39m\u001b[39m.\u001b[39mencoder \u001b[39m=\u001b[39m builder\u001b[39m.\u001b[39mbuild_head(encoder)\n",
      "File \u001b[0;32m~/miniconda/envs/selfocc/lib/python3.8/site-packages/mmseg/models/builder.py:31\u001b[0m, in \u001b[0;36mbuild_head\u001b[0;34m(cfg)\u001b[0m\n\u001b[1;32m     28\u001b[0m \u001b[39m\u001b[39m\u001b[39m\"\"\"Build head.\"\"\"\u001b[39;00m\n\u001b[1;32m     29\u001b[0m warnings\u001b[39m.\u001b[39mwarn(\u001b[39m'\u001b[39m\u001b[39m``build_head`` would be deprecated soon, please use \u001b[39m\u001b[39m'\u001b[39m\n\u001b[1;32m     30\u001b[0m               \u001b[39m'\u001b[39m\u001b[39m``mmseg.registry.MODELS.build()`` \u001b[39m\u001b[39m'\u001b[39m)\n\u001b[0;32m---> 31\u001b[0m \u001b[39mreturn\u001b[39;00m HEADS\u001b[39m.\u001b[39;49mbuild(cfg)\n",
      "File \u001b[0;32m~/miniconda/envs/selfocc/lib/python3.8/site-packages/mmengine/registry/registry.py:570\u001b[0m, in \u001b[0;36mRegistry.build\u001b[0;34m(self, cfg, *args, **kwargs)\u001b[0m\n\u001b[1;32m    548\u001b[0m \u001b[39mdef\u001b[39;00m\u001b[39m \u001b[39m\u001b[39mbuild\u001b[39m(\u001b[39mself\u001b[39m, cfg: \u001b[39mdict\u001b[39m, \u001b[39m*\u001b[39margs, \u001b[39m*\u001b[39m\u001b[39m*\u001b[39mkwargs) \u001b[39m-\u001b[39m\u001b[39m>\u001b[39m Any:\n\u001b[1;32m    549\u001b[0m \u001b[39m    \u001b[39m\u001b[39m\"\"\"Build an instance.\u001b[39;00m\n\u001b[1;32m    550\u001b[0m \n\u001b[1;32m    551\u001b[0m \u001b[39m    Build an instance by calling :attr:`build_func`.\u001b[39;00m\n\u001b[0;32m   (...)\u001b[0m\n\u001b[1;32m    568\u001b[0m \u001b[39m        >>> model = MODELS.build(cfg)\u001b[39;00m\n\u001b[1;32m    569\u001b[0m \u001b[39m    \"\"\"\u001b[39;00m\n\u001b[0;32m--> 570\u001b[0m     \u001b[39mreturn\u001b[39;00m \u001b[39mself\u001b[39;49m\u001b[39m.\u001b[39;49mbuild_func(cfg, \u001b[39m*\u001b[39;49margs, \u001b[39m*\u001b[39;49m\u001b[39m*\u001b[39;49mkwargs, registry\u001b[39m=\u001b[39;49m\u001b[39mself\u001b[39;49m)\n",
      "File \u001b[0;32m~/miniconda/envs/selfocc/lib/python3.8/site-packages/mmengine/registry/build_functions.py:232\u001b[0m, in \u001b[0;36mbuild_model_from_cfg\u001b[0;34m(cfg, registry, default_args)\u001b[0m\n\u001b[1;32m    230\u001b[0m     \u001b[39mreturn\u001b[39;00m Sequential(\u001b[39m*\u001b[39mmodules)\n\u001b[1;32m    231\u001b[0m \u001b[39melse\u001b[39;00m:\n\u001b[0;32m--> 232\u001b[0m     \u001b[39mreturn\u001b[39;00m build_from_cfg(cfg, registry, default_args)\n",
      "File \u001b[0;32m~/miniconda/envs/selfocc/lib/python3.8/site-packages/mmengine/registry/build_functions.py:121\u001b[0m, in \u001b[0;36mbuild_from_cfg\u001b[0;34m(cfg, registry, default_args)\u001b[0m\n\u001b[1;32m    119\u001b[0m     obj \u001b[39m=\u001b[39m obj_cls\u001b[39m.\u001b[39mget_instance(\u001b[39m*\u001b[39m\u001b[39m*\u001b[39margs)  \u001b[39m# type: ignore\u001b[39;00m\n\u001b[1;32m    120\u001b[0m \u001b[39melse\u001b[39;00m:\n\u001b[0;32m--> 121\u001b[0m     obj \u001b[39m=\u001b[39m obj_cls(\u001b[39m*\u001b[39;49m\u001b[39m*\u001b[39;49margs)  \u001b[39m# type: ignore\u001b[39;00m\n\u001b[1;32m    123\u001b[0m \u001b[39mif\u001b[39;00m (inspect\u001b[39m.\u001b[39misclass(obj_cls) \u001b[39mor\u001b[39;00m inspect\u001b[39m.\u001b[39misfunction(obj_cls)\n\u001b[1;32m    124\u001b[0m         \u001b[39mor\u001b[39;00m inspect\u001b[39m.\u001b[39mismethod(obj_cls)):\n\u001b[1;32m    125\u001b[0m     print_log(\n\u001b[1;32m    126\u001b[0m         \u001b[39mf\u001b[39m\u001b[39m'\u001b[39m\u001b[39mAn `\u001b[39m\u001b[39m{\u001b[39;00mobj_cls\u001b[39m.\u001b[39m\u001b[39m__name__\u001b[39m\u001b[39m}\u001b[39;00m\u001b[39m` instance is built from \u001b[39m\u001b[39m'\u001b[39m  \u001b[39m# type: ignore # noqa: E501\u001b[39;00m\n\u001b[1;32m    127\u001b[0m         \u001b[39m'\u001b[39m\u001b[39mregistry, and its implementation can be found in \u001b[39m\u001b[39m'\u001b[39m\n\u001b[1;32m    128\u001b[0m         \u001b[39mf\u001b[39m\u001b[39m'\u001b[39m\u001b[39m{\u001b[39;00mobj_cls\u001b[39m.\u001b[39m\u001b[39m__module__\u001b[39m\u001b[39m}\u001b[39;00m\u001b[39m'\u001b[39m,  \u001b[39m# type: ignore\u001b[39;00m\n\u001b[1;32m    129\u001b[0m         logger\u001b[39m=\u001b[39m\u001b[39m'\u001b[39m\u001b[39mcurrent\u001b[39m\u001b[39m'\u001b[39m,\n\u001b[1;32m    130\u001b[0m         level\u001b[39m=\u001b[39mlogging\u001b[39m.\u001b[39mDEBUG)\n",
      "File \u001b[0;32m/workspace/GaussianFormer/model/lifter/gaussian_lifter_v2.py:110\u001b[0m, in \u001b[0;36mGaussianLifterV2.__init__\u001b[0;34m(self, num_anchor, embed_dims, anchor_grad, feat_grad, semantics, semantic_dim, include_opa, xyz_activation, scale_activation, num_samples, pc_range, voxel_size, occ_resolution, empty_label, anchors_per_pixel, random_sampling, projection_in, initializer, initializer_img_downsample, pretrained_path, deterministic, random_samples, **kwargs)\u001b[0m\n\u001b[1;32m    108\u001b[0m \u001b[39mself\u001b[39m\u001b[39m.\u001b[39mdeterministic \u001b[39m=\u001b[39m deterministic\n\u001b[1;32m    109\u001b[0m \u001b[39mif\u001b[39;00m pretrained_path \u001b[39mis\u001b[39;00m \u001b[39mnot\u001b[39;00m \u001b[39mNone\u001b[39;00m:\n\u001b[0;32m--> 110\u001b[0m     ckpt \u001b[39m=\u001b[39m torch\u001b[39m.\u001b[39;49mload(pretrained_path, map_location\u001b[39m=\u001b[39;49m\u001b[39m'\u001b[39;49m\u001b[39mcpu\u001b[39;49m\u001b[39m'\u001b[39;49m)\n\u001b[1;32m    111\u001b[0m     ckpt \u001b[39m=\u001b[39m ckpt\u001b[39m.\u001b[39mget(\u001b[39m\"\u001b[39m\u001b[39mstate_dict\u001b[39m\u001b[39m\"\u001b[39m, ckpt)\n\u001b[1;32m    112\u001b[0m     \u001b[39mif\u001b[39;00m \u001b[39m'\u001b[39m\u001b[39minstance_feature\u001b[39m\u001b[39m'\u001b[39m \u001b[39min\u001b[39;00m ckpt:\n",
      "File \u001b[0;32m~/miniconda/envs/selfocc/lib/python3.8/site-packages/torch/serialization.py:791\u001b[0m, in \u001b[0;36mload\u001b[0;34m(f, map_location, pickle_module, weights_only, **pickle_load_args)\u001b[0m\n\u001b[1;32m    788\u001b[0m \u001b[39mif\u001b[39;00m \u001b[39m'\u001b[39m\u001b[39mencoding\u001b[39m\u001b[39m'\u001b[39m \u001b[39mnot\u001b[39;00m \u001b[39min\u001b[39;00m pickle_load_args\u001b[39m.\u001b[39mkeys():\n\u001b[1;32m    789\u001b[0m     pickle_load_args[\u001b[39m'\u001b[39m\u001b[39mencoding\u001b[39m\u001b[39m'\u001b[39m] \u001b[39m=\u001b[39m \u001b[39m'\u001b[39m\u001b[39mutf-8\u001b[39m\u001b[39m'\u001b[39m\n\u001b[0;32m--> 791\u001b[0m \u001b[39mwith\u001b[39;00m _open_file_like(f, \u001b[39m'\u001b[39;49m\u001b[39mrb\u001b[39;49m\u001b[39m'\u001b[39;49m) \u001b[39mas\u001b[39;00m opened_file:\n\u001b[1;32m    792\u001b[0m     \u001b[39mif\u001b[39;00m _is_zipfile(opened_file):\n\u001b[1;32m    793\u001b[0m         \u001b[39m# The zipfile reader is going to advance the current file position.\u001b[39;00m\n\u001b[1;32m    794\u001b[0m         \u001b[39m# If we want to actually tail call to torch.jit.load, we need to\u001b[39;00m\n\u001b[1;32m    795\u001b[0m         \u001b[39m# reset back to the original position.\u001b[39;00m\n\u001b[1;32m    796\u001b[0m         orig_position \u001b[39m=\u001b[39m opened_file\u001b[39m.\u001b[39mtell()\n",
      "File \u001b[0;32m~/miniconda/envs/selfocc/lib/python3.8/site-packages/torch/serialization.py:271\u001b[0m, in \u001b[0;36m_open_file_like\u001b[0;34m(name_or_buffer, mode)\u001b[0m\n\u001b[1;32m    269\u001b[0m \u001b[39mdef\u001b[39;00m\u001b[39m \u001b[39m\u001b[39m_open_file_like\u001b[39m(name_or_buffer, mode):\n\u001b[1;32m    270\u001b[0m     \u001b[39mif\u001b[39;00m _is_path(name_or_buffer):\n\u001b[0;32m--> 271\u001b[0m         \u001b[39mreturn\u001b[39;00m _open_file(name_or_buffer, mode)\n\u001b[1;32m    272\u001b[0m     \u001b[39melse\u001b[39;00m:\n\u001b[1;32m    273\u001b[0m         \u001b[39mif\u001b[39;00m \u001b[39m'\u001b[39m\u001b[39mw\u001b[39m\u001b[39m'\u001b[39m \u001b[39min\u001b[39;00m mode:\n",
      "File \u001b[0;32m~/miniconda/envs/selfocc/lib/python3.8/site-packages/torch/serialization.py:252\u001b[0m, in \u001b[0;36m_open_file.__init__\u001b[0;34m(self, name, mode)\u001b[0m\n\u001b[1;32m    251\u001b[0m \u001b[39mdef\u001b[39;00m\u001b[39m \u001b[39m\u001b[39m__init__\u001b[39m(\u001b[39mself\u001b[39m, name, mode):\n\u001b[0;32m--> 252\u001b[0m     \u001b[39msuper\u001b[39m()\u001b[39m.\u001b[39m\u001b[39m__init__\u001b[39m(\u001b[39mopen\u001b[39;49m(name, mode))\n",
      "\u001b[0;31mFileNotFoundError\u001b[0m: [Errno 2] No such file or directory: 'out/prob/init/init.pth'"
     ]
    }
   ],
   "source": [
    "from mmseg.models import build_segmentor\n",
    "from mmengine import Config\n",
    "import model\n",
    "cfg = 'config/prob/nuscenes_gs6400.py'\n",
    "\n",
    "# cfg = 'config/nuscenes_gs25600_solid.py'\n",
    "cfg = Config.fromfile(cfg)\n",
    "cfg.work_dir = \"out/\"\n",
    "model = build_segmentor(cfg.model)\n",
    "# model.init_weights()\n"
   ]
  },
  {
   "cell_type": "code",
   "execution_count": null,
   "metadata": {},
   "outputs": [],
   "source": []
  }
 ],
 "metadata": {
  "language_info": {
   "name": "python"
  }
 },
 "nbformat": 4,
 "nbformat_minor": 2
}
